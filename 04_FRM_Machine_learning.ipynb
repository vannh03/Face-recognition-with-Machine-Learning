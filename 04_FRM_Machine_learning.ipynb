{
 "cells": [
  {
   "cell_type": "code",
   "execution_count": 28,
   "id": "fbef3feb",
   "metadata": {},
   "outputs": [],
   "source": [
    "import numpy as np\n",
    "import pandas as pd\n",
    "\n",
    "# \n",
    "from sklearn.model_selection import train_test_split\n",
    "from sklearn.svm import SVC\n",
    "from sklearn.model_selection import GridSearchCV\n",
    "from sklearn import metrics"
   ]
  },
  {
   "cell_type": "code",
   "execution_count": 29,
   "id": "e1447828",
   "metadata": {},
   "outputs": [
    {
     "data": {
      "text/plain": [
       "['arr_0', 'arr_1']"
      ]
     },
     "execution_count": 29,
     "metadata": {},
     "output_type": "execute_result"
    }
   ],
   "source": [
    "# load numpy array\n",
    "data = np.load('./data/data_pca_30_target.npz')\n",
    "data.files"
   ]
  },
  {
   "cell_type": "code",
   "execution_count": 30,
   "id": "e374ceb1",
   "metadata": {},
   "outputs": [],
   "source": [
    "data.allow_pickle = True"
   ]
  },
  {
   "cell_type": "code",
   "execution_count": 31,
   "id": "3a87eb87",
   "metadata": {},
   "outputs": [],
   "source": [
    "X = data['arr_0'] # pca data with 50 components\n",
    "y = data['arr_1'] # target or dependent variable"
   ]
  },
  {
   "cell_type": "code",
   "execution_count": 32,
   "id": "b4782644",
   "metadata": {},
   "outputs": [
    {
     "data": {
      "text/plain": [
       "((262, 30), (262,))"
      ]
     },
     "execution_count": 32,
     "metadata": {},
     "output_type": "execute_result"
    }
   ],
   "source": [
    "X.shape,y.shape"
   ]
  },
  {
   "cell_type": "code",
   "execution_count": 33,
   "id": "a620abdf",
   "metadata": {},
   "outputs": [
    {
     "data": {
      "text/plain": [
       "array([[ 1.29272447, -1.23696042, -0.26743144, ...,  1.96358549,\n",
       "        -0.0579973 ,  0.10216754],\n",
       "       [-0.68676889, -0.63515624,  1.27029767, ...,  0.10976348,\n",
       "         0.02474352, -1.21129296],\n",
       "       [ 0.09873896, -2.27115924,  1.47656493, ..., -1.5084822 ,\n",
       "         2.36393464, -0.79572205],\n",
       "       ...,\n",
       "       [-0.09294484,  0.7222733 , -1.43889974, ..., -1.1129623 ,\n",
       "         0.50699024,  1.1028905 ],\n",
       "       [ 0.34421135,  1.36585829, -0.16743978, ...,  0.14474637,\n",
       "        -0.23768579, -0.90297878],\n",
       "       [-0.50742427, -0.29406619, -1.47438122, ..., -0.16184306,\n",
       "         1.01797144, -0.34040521]])"
      ]
     },
     "execution_count": 33,
     "metadata": {},
     "output_type": "execute_result"
    }
   ],
   "source": [
    "X"
   ]
  },
  {
   "cell_type": "code",
   "execution_count": 34,
   "id": "2f72d588",
   "metadata": {},
   "outputs": [
    {
     "data": {
      "text/plain": [
       "array(['Henry', 'Henry', 'Henry', 'Henry', 'Henry', 'Henry', 'Henry',\n",
       "       'Henry', 'Henry', 'Henry', 'Henry', 'Henry', 'Henry', 'Henry',\n",
       "       'Henry', 'Henry', 'Henry', 'Henry', 'Henry', 'Henry', 'Henry',\n",
       "       'Henry', 'Henry', 'Henry', 'Henry', 'Henry', 'Henry', 'Henry',\n",
       "       'Henry', 'Henry', 'Henry', 'Henry', 'Henry', 'Henry', 'Henry',\n",
       "       'Henry', 'Henry', 'Henry', 'Henry', 'Henry', 'Henry', 'Henry',\n",
       "       'Henry', 'Henry', 'Henry', 'Henry', 'Henry', 'Henry', 'Henry',\n",
       "       'Henry', 'Henry', 'Henry', 'Henry', 'Henry', 'Henry', 'Henry',\n",
       "       'Henry', 'Henry', 'Henry', 'Henry', 'Henry', 'Henry', 'Henry',\n",
       "       'Henry', 'Henry', 'Henry', 'Henry', 'Henry', 'Henry', 'Henry',\n",
       "       'Henry', 'Henry', 'Henry', 'Henry', 'Henry', 'Henry', 'Henry',\n",
       "       'Henry', 'Henry', 'Henry', 'Henry', 'Henry', 'Henry', 'Henry',\n",
       "       'Henry', 'Henry', 'Henry', 'Henry', 'Henry', 'Henry', 'Henry',\n",
       "       'Henry', 'Henry', 'Henry', 'Henry', 'Henry', 'Henry', 'Henry',\n",
       "       'Henry', 'Henry', 'Henry', 'Henry', 'Henry', 'Henry', 'Henry',\n",
       "       'Henry', 'Henry', 'Henry', 'Henry', 'Henry', 'Henry', 'Henry',\n",
       "       'Henry', 'Henry', 'Henry', 'Henry', 'Henry', 'Henry', 'Henry',\n",
       "       'Henry', 'Henry', 'Henry', 'Henry', 'Van', 'Van', 'Van', 'Van',\n",
       "       'Van', 'Van', 'Van', 'Van', 'Van', 'Van', 'Van', 'Van', 'Van',\n",
       "       'Van', 'Van', 'Van', 'Van', 'Van', 'Van', 'Van', 'Van', 'Van',\n",
       "       'Van', 'Van', 'Van', 'Van', 'Van', 'Van', 'Van', 'Van', 'Van',\n",
       "       'Van', 'Van', 'Van', 'Van', 'Van', 'Van', 'Van', 'Van', 'Van',\n",
       "       'Van', 'Van', 'Van', 'Van', 'Van', 'Van', 'Van', 'Van', 'Van',\n",
       "       'Van', 'Van', 'Van', 'Van', 'Van', 'Van', 'Van', 'Van', 'Van',\n",
       "       'Van', 'Van', 'Van', 'Van', 'Van', 'Van', 'Van', 'Van', 'Van',\n",
       "       'Van', 'Van', 'Van', 'Van', 'Van', 'Van', 'Van', 'Van', 'Van',\n",
       "       'Van', 'Van', 'Van', 'Van', 'Van', 'Van', 'Van', 'Van', 'Van',\n",
       "       'Van', 'Van', 'Van', 'Van', 'Van', 'Van', 'Van', 'Van', 'Van',\n",
       "       'Van', 'Van', 'Van', 'Van', 'Van', 'Van', 'Van', 'Van', 'Van',\n",
       "       'Van', 'Van', 'Van', 'Van', 'Van', 'Van', 'Van', 'Van', 'Van',\n",
       "       'Van', 'Van', 'Van', 'Van', 'Van', 'Van', 'Van', 'Van', 'Van',\n",
       "       'Van', 'Van', 'Van', 'Van', 'Van', 'Van', 'Van', 'Van', 'Van',\n",
       "       'Van', 'Van', 'Van', 'Van', 'Van', 'Van', 'Van', 'Van', 'Van'],\n",
       "      dtype=object)"
      ]
     },
     "execution_count": 34,
     "metadata": {},
     "output_type": "execute_result"
    }
   ],
   "source": [
    "y"
   ]
  },
  {
   "cell_type": "markdown",
   "id": "9fe7f916",
   "metadata": {},
   "source": [
    "### split the data into train and test"
   ]
  },
  {
   "cell_type": "code",
   "execution_count": 35,
   "id": "99a552f1",
   "metadata": {},
   "outputs": [
    {
     "name": "stdout",
     "output_type": "stream",
     "text": [
      "(209, 30) (53, 30) (209,) (53,)\n"
     ]
    }
   ],
   "source": [
    "x_train,x_test, y_train, y_test = train_test_split(X,y,test_size=0.2,stratify=y)\n",
    "\n",
    "print(x_train.shape, x_test.shape, y_train.shape, y_test.shape)"
   ]
  },
  {
   "cell_type": "markdown",
   "id": "d72e2656",
   "metadata": {},
   "source": [
    "### training machine learning model"
   ]
  },
  {
   "cell_type": "code",
   "execution_count": 36,
   "id": "b0bfaa33",
   "metadata": {},
   "outputs": [],
   "source": [
    "model_svc = SVC(probability=True)\n",
    "\n",
    "param_grid = {'C':[0.5,1,10,20,30,50],\n",
    "             'kernel':['rbf','poly'],\n",
    "             'gamma':[0.1,0.05,0.01,0.001,0.002,0.005],\n",
    "             'coef0':[0,1]}"
   ]
  },
  {
   "cell_type": "code",
   "execution_count": 37,
   "id": "9c5805ab",
   "metadata": {},
   "outputs": [],
   "source": [
    "model_grid = GridSearchCV(model_svc,\n",
    "                          param_grid=param_grid,\n",
    "                          scoring='accuracy',cv=3,verbose=2)"
   ]
  },
  {
   "cell_type": "code",
   "execution_count": 38,
   "id": "1815336c",
   "metadata": {},
   "outputs": [
    {
     "name": "stdout",
     "output_type": "stream",
     "text": [
      "Fitting 3 folds for each of 144 candidates, totalling 432 fits\n",
      "[CV] END ..............C=0.5, coef0=0, gamma=0.1, kernel=rbf; total time=   0.0s\n",
      "[CV] END ..............C=0.5, coef0=0, gamma=0.1, kernel=rbf; total time=   0.0s\n",
      "[CV] END ..............C=0.5, coef0=0, gamma=0.1, kernel=rbf; total time=   0.0s\n",
      "[CV] END .............C=0.5, coef0=0, gamma=0.1, kernel=poly; total time=   0.0s\n",
      "[CV] END .............C=0.5, coef0=0, gamma=0.1, kernel=poly; total time=   0.0s\n",
      "[CV] END .............C=0.5, coef0=0, gamma=0.1, kernel=poly; total time=   0.0s\n",
      "[CV] END .............C=0.5, coef0=0, gamma=0.05, kernel=rbf; total time=   0.0s\n",
      "[CV] END .............C=0.5, coef0=0, gamma=0.05, kernel=rbf; total time=   0.0s\n",
      "[CV] END .............C=0.5, coef0=0, gamma=0.05, kernel=rbf; total time=   0.0s\n",
      "[CV] END ............C=0.5, coef0=0, gamma=0.05, kernel=poly; total time=   0.0s\n",
      "[CV] END ............C=0.5, coef0=0, gamma=0.05, kernel=poly; total time=   0.0s\n",
      "[CV] END ............C=0.5, coef0=0, gamma=0.05, kernel=poly; total time=   0.0s\n",
      "[CV] END .............C=0.5, coef0=0, gamma=0.01, kernel=rbf; total time=   0.0s\n",
      "[CV] END .............C=0.5, coef0=0, gamma=0.01, kernel=rbf; total time=   0.0s\n",
      "[CV] END .............C=0.5, coef0=0, gamma=0.01, kernel=rbf; total time=   0.0s\n",
      "[CV] END ............C=0.5, coef0=0, gamma=0.01, kernel=poly; total time=   0.0s\n",
      "[CV] END ............C=0.5, coef0=0, gamma=0.01, kernel=poly; total time=   0.0s\n",
      "[CV] END ............C=0.5, coef0=0, gamma=0.01, kernel=poly; total time=   0.0s\n",
      "[CV] END ............C=0.5, coef0=0, gamma=0.001, kernel=rbf; total time=   0.0s\n",
      "[CV] END ............C=0.5, coef0=0, gamma=0.001, kernel=rbf; total time=   0.0s\n",
      "[CV] END ............C=0.5, coef0=0, gamma=0.001, kernel=rbf; total time=   0.0s\n",
      "[CV] END ...........C=0.5, coef0=0, gamma=0.001, kernel=poly; total time=   0.0s\n",
      "[CV] END ...........C=0.5, coef0=0, gamma=0.001, kernel=poly; total time=   0.0s\n",
      "[CV] END ...........C=0.5, coef0=0, gamma=0.001, kernel=poly; total time=   0.0s\n",
      "[CV] END ............C=0.5, coef0=0, gamma=0.002, kernel=rbf; total time=   0.0s\n",
      "[CV] END ............C=0.5, coef0=0, gamma=0.002, kernel=rbf; total time=   0.0s\n",
      "[CV] END ............C=0.5, coef0=0, gamma=0.002, kernel=rbf; total time=   0.0s\n",
      "[CV] END ...........C=0.5, coef0=0, gamma=0.002, kernel=poly; total time=   0.0s\n",
      "[CV] END ...........C=0.5, coef0=0, gamma=0.002, kernel=poly; total time=   0.0s\n",
      "[CV] END ...........C=0.5, coef0=0, gamma=0.002, kernel=poly; total time=   0.0s\n",
      "[CV] END ............C=0.5, coef0=0, gamma=0.005, kernel=rbf; total time=   0.0s\n",
      "[CV] END ............C=0.5, coef0=0, gamma=0.005, kernel=rbf; total time=   0.0s\n",
      "[CV] END ............C=0.5, coef0=0, gamma=0.005, kernel=rbf; total time=   0.0s\n",
      "[CV] END ...........C=0.5, coef0=0, gamma=0.005, kernel=poly; total time=   0.0s\n",
      "[CV] END ...........C=0.5, coef0=0, gamma=0.005, kernel=poly; total time=   0.0s\n",
      "[CV] END ...........C=0.5, coef0=0, gamma=0.005, kernel=poly; total time=   0.0s\n",
      "[CV] END ..............C=0.5, coef0=1, gamma=0.1, kernel=rbf; total time=   0.0s\n",
      "[CV] END ..............C=0.5, coef0=1, gamma=0.1, kernel=rbf; total time=   0.0s\n",
      "[CV] END ..............C=0.5, coef0=1, gamma=0.1, kernel=rbf; total time=   0.0s\n",
      "[CV] END .............C=0.5, coef0=1, gamma=0.1, kernel=poly; total time=   0.0s\n",
      "[CV] END .............C=0.5, coef0=1, gamma=0.1, kernel=poly; total time=   0.0s\n",
      "[CV] END .............C=0.5, coef0=1, gamma=0.1, kernel=poly; total time=   0.0s\n",
      "[CV] END .............C=0.5, coef0=1, gamma=0.05, kernel=rbf; total time=   0.0s\n",
      "[CV] END .............C=0.5, coef0=1, gamma=0.05, kernel=rbf; total time=   0.0s\n",
      "[CV] END .............C=0.5, coef0=1, gamma=0.05, kernel=rbf; total time=   0.0s\n",
      "[CV] END ............C=0.5, coef0=1, gamma=0.05, kernel=poly; total time=   0.0s\n",
      "[CV] END ............C=0.5, coef0=1, gamma=0.05, kernel=poly; total time=   0.0s\n",
      "[CV] END ............C=0.5, coef0=1, gamma=0.05, kernel=poly; total time=   0.0s\n",
      "[CV] END .............C=0.5, coef0=1, gamma=0.01, kernel=rbf; total time=   0.0s\n",
      "[CV] END .............C=0.5, coef0=1, gamma=0.01, kernel=rbf; total time=   0.0s\n",
      "[CV] END .............C=0.5, coef0=1, gamma=0.01, kernel=rbf; total time=   0.0s\n",
      "[CV] END ............C=0.5, coef0=1, gamma=0.01, kernel=poly; total time=   0.0s\n",
      "[CV] END ............C=0.5, coef0=1, gamma=0.01, kernel=poly; total time=   0.0s\n",
      "[CV] END ............C=0.5, coef0=1, gamma=0.01, kernel=poly; total time=   0.0s\n",
      "[CV] END ............C=0.5, coef0=1, gamma=0.001, kernel=rbf; total time=   0.0s\n",
      "[CV] END ............C=0.5, coef0=1, gamma=0.001, kernel=rbf; total time=   0.0s\n",
      "[CV] END ............C=0.5, coef0=1, gamma=0.001, kernel=rbf; total time=   0.0s\n",
      "[CV] END ...........C=0.5, coef0=1, gamma=0.001, kernel=poly; total time=   0.0s\n",
      "[CV] END ...........C=0.5, coef0=1, gamma=0.001, kernel=poly; total time=   0.0s\n",
      "[CV] END ...........C=0.5, coef0=1, gamma=0.001, kernel=poly; total time=   0.0s\n",
      "[CV] END ............C=0.5, coef0=1, gamma=0.002, kernel=rbf; total time=   0.0s\n",
      "[CV] END ............C=0.5, coef0=1, gamma=0.002, kernel=rbf; total time=   0.0s\n",
      "[CV] END ............C=0.5, coef0=1, gamma=0.002, kernel=rbf; total time=   0.0s\n",
      "[CV] END ...........C=0.5, coef0=1, gamma=0.002, kernel=poly; total time=   0.0s\n",
      "[CV] END ...........C=0.5, coef0=1, gamma=0.002, kernel=poly; total time=   0.0s\n",
      "[CV] END ...........C=0.5, coef0=1, gamma=0.002, kernel=poly; total time=   0.0s\n",
      "[CV] END ............C=0.5, coef0=1, gamma=0.005, kernel=rbf; total time=   0.0s\n",
      "[CV] END ............C=0.5, coef0=1, gamma=0.005, kernel=rbf; total time=   0.0s\n",
      "[CV] END ............C=0.5, coef0=1, gamma=0.005, kernel=rbf; total time=   0.0s\n",
      "[CV] END ...........C=0.5, coef0=1, gamma=0.005, kernel=poly; total time=   0.0s\n",
      "[CV] END ...........C=0.5, coef0=1, gamma=0.005, kernel=poly; total time=   0.0s\n",
      "[CV] END ...........C=0.5, coef0=1, gamma=0.005, kernel=poly; total time=   0.0s\n",
      "[CV] END ................C=1, coef0=0, gamma=0.1, kernel=rbf; total time=   0.0s\n",
      "[CV] END ................C=1, coef0=0, gamma=0.1, kernel=rbf; total time=   0.0s\n",
      "[CV] END ................C=1, coef0=0, gamma=0.1, kernel=rbf; total time=   0.0s\n",
      "[CV] END ...............C=1, coef0=0, gamma=0.1, kernel=poly; total time=   0.0s\n",
      "[CV] END ...............C=1, coef0=0, gamma=0.1, kernel=poly; total time=   0.0s\n",
      "[CV] END ...............C=1, coef0=0, gamma=0.1, kernel=poly; total time=   0.0s\n",
      "[CV] END ...............C=1, coef0=0, gamma=0.05, kernel=rbf; total time=   0.0s\n",
      "[CV] END ...............C=1, coef0=0, gamma=0.05, kernel=rbf; total time=   0.0s\n",
      "[CV] END ...............C=1, coef0=0, gamma=0.05, kernel=rbf; total time=   0.0s\n",
      "[CV] END ..............C=1, coef0=0, gamma=0.05, kernel=poly; total time=   0.0s\n",
      "[CV] END ..............C=1, coef0=0, gamma=0.05, kernel=poly; total time=   0.0s\n",
      "[CV] END ..............C=1, coef0=0, gamma=0.05, kernel=poly; total time=   0.0s\n",
      "[CV] END ...............C=1, coef0=0, gamma=0.01, kernel=rbf; total time=   0.0s\n",
      "[CV] END ...............C=1, coef0=0, gamma=0.01, kernel=rbf; total time=   0.0s\n",
      "[CV] END ...............C=1, coef0=0, gamma=0.01, kernel=rbf; total time=   0.0s\n",
      "[CV] END ..............C=1, coef0=0, gamma=0.01, kernel=poly; total time=   0.0s\n",
      "[CV] END ..............C=1, coef0=0, gamma=0.01, kernel=poly; total time=   0.0s\n",
      "[CV] END ..............C=1, coef0=0, gamma=0.01, kernel=poly; total time=   0.0s\n",
      "[CV] END ..............C=1, coef0=0, gamma=0.001, kernel=rbf; total time=   0.0s\n",
      "[CV] END ..............C=1, coef0=0, gamma=0.001, kernel=rbf; total time=   0.0s\n",
      "[CV] END ..............C=1, coef0=0, gamma=0.001, kernel=rbf; total time=   0.0s\n",
      "[CV] END .............C=1, coef0=0, gamma=0.001, kernel=poly; total time=   0.0s\n",
      "[CV] END .............C=1, coef0=0, gamma=0.001, kernel=poly; total time=   0.0s\n",
      "[CV] END .............C=1, coef0=0, gamma=0.001, kernel=poly; total time=   0.0s\n",
      "[CV] END ..............C=1, coef0=0, gamma=0.002, kernel=rbf; total time=   0.0s\n",
      "[CV] END ..............C=1, coef0=0, gamma=0.002, kernel=rbf; total time=   0.0s\n",
      "[CV] END ..............C=1, coef0=0, gamma=0.002, kernel=rbf; total time=   0.0s\n",
      "[CV] END .............C=1, coef0=0, gamma=0.002, kernel=poly; total time=   0.0s\n",
      "[CV] END .............C=1, coef0=0, gamma=0.002, kernel=poly; total time=   0.0s\n"
     ]
    },
    {
     "name": "stdout",
     "output_type": "stream",
     "text": [
      "[CV] END .............C=1, coef0=0, gamma=0.002, kernel=poly; total time=   0.0s\n",
      "[CV] END ..............C=1, coef0=0, gamma=0.005, kernel=rbf; total time=   0.0s\n",
      "[CV] END ..............C=1, coef0=0, gamma=0.005, kernel=rbf; total time=   0.0s\n",
      "[CV] END ..............C=1, coef0=0, gamma=0.005, kernel=rbf; total time=   0.0s\n",
      "[CV] END .............C=1, coef0=0, gamma=0.005, kernel=poly; total time=   0.0s\n",
      "[CV] END .............C=1, coef0=0, gamma=0.005, kernel=poly; total time=   0.0s\n",
      "[CV] END .............C=1, coef0=0, gamma=0.005, kernel=poly; total time=   0.0s\n",
      "[CV] END ................C=1, coef0=1, gamma=0.1, kernel=rbf; total time=   0.0s\n",
      "[CV] END ................C=1, coef0=1, gamma=0.1, kernel=rbf; total time=   0.0s\n",
      "[CV] END ................C=1, coef0=1, gamma=0.1, kernel=rbf; total time=   0.0s\n",
      "[CV] END ...............C=1, coef0=1, gamma=0.1, kernel=poly; total time=   0.0s\n",
      "[CV] END ...............C=1, coef0=1, gamma=0.1, kernel=poly; total time=   0.0s\n",
      "[CV] END ...............C=1, coef0=1, gamma=0.1, kernel=poly; total time=   0.0s\n",
      "[CV] END ...............C=1, coef0=1, gamma=0.05, kernel=rbf; total time=   0.0s\n",
      "[CV] END ...............C=1, coef0=1, gamma=0.05, kernel=rbf; total time=   0.0s\n",
      "[CV] END ...............C=1, coef0=1, gamma=0.05, kernel=rbf; total time=   0.0s\n",
      "[CV] END ..............C=1, coef0=1, gamma=0.05, kernel=poly; total time=   0.0s\n",
      "[CV] END ..............C=1, coef0=1, gamma=0.05, kernel=poly; total time=   0.0s\n",
      "[CV] END ..............C=1, coef0=1, gamma=0.05, kernel=poly; total time=   0.0s\n",
      "[CV] END ...............C=1, coef0=1, gamma=0.01, kernel=rbf; total time=   0.0s\n",
      "[CV] END ...............C=1, coef0=1, gamma=0.01, kernel=rbf; total time=   0.0s\n",
      "[CV] END ...............C=1, coef0=1, gamma=0.01, kernel=rbf; total time=   0.0s\n",
      "[CV] END ..............C=1, coef0=1, gamma=0.01, kernel=poly; total time=   0.0s\n",
      "[CV] END ..............C=1, coef0=1, gamma=0.01, kernel=poly; total time=   0.0s\n",
      "[CV] END ..............C=1, coef0=1, gamma=0.01, kernel=poly; total time=   0.0s\n",
      "[CV] END ..............C=1, coef0=1, gamma=0.001, kernel=rbf; total time=   0.0s\n",
      "[CV] END ..............C=1, coef0=1, gamma=0.001, kernel=rbf; total time=   0.0s\n",
      "[CV] END ..............C=1, coef0=1, gamma=0.001, kernel=rbf; total time=   0.0s\n",
      "[CV] END .............C=1, coef0=1, gamma=0.001, kernel=poly; total time=   0.0s\n",
      "[CV] END .............C=1, coef0=1, gamma=0.001, kernel=poly; total time=   0.0s\n",
      "[CV] END .............C=1, coef0=1, gamma=0.001, kernel=poly; total time=   0.0s\n",
      "[CV] END ..............C=1, coef0=1, gamma=0.002, kernel=rbf; total time=   0.0s\n",
      "[CV] END ..............C=1, coef0=1, gamma=0.002, kernel=rbf; total time=   0.0s\n",
      "[CV] END ..............C=1, coef0=1, gamma=0.002, kernel=rbf; total time=   0.0s\n",
      "[CV] END .............C=1, coef0=1, gamma=0.002, kernel=poly; total time=   0.0s\n",
      "[CV] END .............C=1, coef0=1, gamma=0.002, kernel=poly; total time=   0.0s\n",
      "[CV] END .............C=1, coef0=1, gamma=0.002, kernel=poly; total time=   0.0s\n",
      "[CV] END ..............C=1, coef0=1, gamma=0.005, kernel=rbf; total time=   0.0s\n",
      "[CV] END ..............C=1, coef0=1, gamma=0.005, kernel=rbf; total time=   0.0s\n",
      "[CV] END ..............C=1, coef0=1, gamma=0.005, kernel=rbf; total time=   0.0s\n",
      "[CV] END .............C=1, coef0=1, gamma=0.005, kernel=poly; total time=   0.0s\n",
      "[CV] END .............C=1, coef0=1, gamma=0.005, kernel=poly; total time=   0.0s\n",
      "[CV] END .............C=1, coef0=1, gamma=0.005, kernel=poly; total time=   0.0s\n",
      "[CV] END ...............C=10, coef0=0, gamma=0.1, kernel=rbf; total time=   0.0s\n",
      "[CV] END ...............C=10, coef0=0, gamma=0.1, kernel=rbf; total time=   0.0s\n",
      "[CV] END ...............C=10, coef0=0, gamma=0.1, kernel=rbf; total time=   0.0s\n",
      "[CV] END ..............C=10, coef0=0, gamma=0.1, kernel=poly; total time=   0.0s\n",
      "[CV] END ..............C=10, coef0=0, gamma=0.1, kernel=poly; total time=   0.0s\n",
      "[CV] END ..............C=10, coef0=0, gamma=0.1, kernel=poly; total time=   0.0s\n",
      "[CV] END ..............C=10, coef0=0, gamma=0.05, kernel=rbf; total time=   0.0s\n",
      "[CV] END ..............C=10, coef0=0, gamma=0.05, kernel=rbf; total time=   0.0s\n",
      "[CV] END ..............C=10, coef0=0, gamma=0.05, kernel=rbf; total time=   0.0s\n",
      "[CV] END .............C=10, coef0=0, gamma=0.05, kernel=poly; total time=   0.0s\n",
      "[CV] END .............C=10, coef0=0, gamma=0.05, kernel=poly; total time=   0.0s\n",
      "[CV] END .............C=10, coef0=0, gamma=0.05, kernel=poly; total time=   0.0s\n",
      "[CV] END ..............C=10, coef0=0, gamma=0.01, kernel=rbf; total time=   0.0s\n",
      "[CV] END ..............C=10, coef0=0, gamma=0.01, kernel=rbf; total time=   0.0s\n",
      "[CV] END ..............C=10, coef0=0, gamma=0.01, kernel=rbf; total time=   0.0s\n",
      "[CV] END .............C=10, coef0=0, gamma=0.01, kernel=poly; total time=   0.0s\n",
      "[CV] END .............C=10, coef0=0, gamma=0.01, kernel=poly; total time=   0.0s\n",
      "[CV] END .............C=10, coef0=0, gamma=0.01, kernel=poly; total time=   0.0s\n",
      "[CV] END .............C=10, coef0=0, gamma=0.001, kernel=rbf; total time=   0.0s\n",
      "[CV] END .............C=10, coef0=0, gamma=0.001, kernel=rbf; total time=   0.0s\n",
      "[CV] END .............C=10, coef0=0, gamma=0.001, kernel=rbf; total time=   0.0s\n",
      "[CV] END ............C=10, coef0=0, gamma=0.001, kernel=poly; total time=   0.0s\n",
      "[CV] END ............C=10, coef0=0, gamma=0.001, kernel=poly; total time=   0.0s\n",
      "[CV] END ............C=10, coef0=0, gamma=0.001, kernel=poly; total time=   0.0s\n",
      "[CV] END .............C=10, coef0=0, gamma=0.002, kernel=rbf; total time=   0.0s\n",
      "[CV] END .............C=10, coef0=0, gamma=0.002, kernel=rbf; total time=   0.0s\n",
      "[CV] END .............C=10, coef0=0, gamma=0.002, kernel=rbf; total time=   0.0s\n",
      "[CV] END ............C=10, coef0=0, gamma=0.002, kernel=poly; total time=   0.0s\n",
      "[CV] END ............C=10, coef0=0, gamma=0.002, kernel=poly; total time=   0.0s\n",
      "[CV] END ............C=10, coef0=0, gamma=0.002, kernel=poly; total time=   0.0s\n",
      "[CV] END .............C=10, coef0=0, gamma=0.005, kernel=rbf; total time=   0.0s\n",
      "[CV] END .............C=10, coef0=0, gamma=0.005, kernel=rbf; total time=   0.0s\n",
      "[CV] END .............C=10, coef0=0, gamma=0.005, kernel=rbf; total time=   0.0s\n",
      "[CV] END ............C=10, coef0=0, gamma=0.005, kernel=poly; total time=   0.0s\n",
      "[CV] END ............C=10, coef0=0, gamma=0.005, kernel=poly; total time=   0.0s\n",
      "[CV] END ............C=10, coef0=0, gamma=0.005, kernel=poly; total time=   0.0s\n",
      "[CV] END ...............C=10, coef0=1, gamma=0.1, kernel=rbf; total time=   0.0s\n",
      "[CV] END ...............C=10, coef0=1, gamma=0.1, kernel=rbf; total time=   0.0s\n",
      "[CV] END ...............C=10, coef0=1, gamma=0.1, kernel=rbf; total time=   0.0s\n",
      "[CV] END ..............C=10, coef0=1, gamma=0.1, kernel=poly; total time=   0.0s\n",
      "[CV] END ..............C=10, coef0=1, gamma=0.1, kernel=poly; total time=   0.0s\n",
      "[CV] END ..............C=10, coef0=1, gamma=0.1, kernel=poly; total time=   0.0s\n",
      "[CV] END ..............C=10, coef0=1, gamma=0.05, kernel=rbf; total time=   0.0s\n",
      "[CV] END ..............C=10, coef0=1, gamma=0.05, kernel=rbf; total time=   0.0s\n",
      "[CV] END ..............C=10, coef0=1, gamma=0.05, kernel=rbf; total time=   0.0s\n",
      "[CV] END .............C=10, coef0=1, gamma=0.05, kernel=poly; total time=   0.0s\n",
      "[CV] END .............C=10, coef0=1, gamma=0.05, kernel=poly; total time=   0.0s\n",
      "[CV] END .............C=10, coef0=1, gamma=0.05, kernel=poly; total time=   0.0s\n",
      "[CV] END ..............C=10, coef0=1, gamma=0.01, kernel=rbf; total time=   0.0s\n",
      "[CV] END ..............C=10, coef0=1, gamma=0.01, kernel=rbf; total time=   0.0s\n",
      "[CV] END ..............C=10, coef0=1, gamma=0.01, kernel=rbf; total time=   0.0s\n",
      "[CV] END .............C=10, coef0=1, gamma=0.01, kernel=poly; total time=   0.0s\n",
      "[CV] END .............C=10, coef0=1, gamma=0.01, kernel=poly; total time=   0.0s\n",
      "[CV] END .............C=10, coef0=1, gamma=0.01, kernel=poly; total time=   0.0s\n",
      "[CV] END .............C=10, coef0=1, gamma=0.001, kernel=rbf; total time=   0.0s\n",
      "[CV] END .............C=10, coef0=1, gamma=0.001, kernel=rbf; total time=   0.0s\n",
      "[CV] END .............C=10, coef0=1, gamma=0.001, kernel=rbf; total time=   0.0s\n",
      "[CV] END ............C=10, coef0=1, gamma=0.001, kernel=poly; total time=   0.0s\n",
      "[CV] END ............C=10, coef0=1, gamma=0.001, kernel=poly; total time=   0.0s\n"
     ]
    },
    {
     "name": "stdout",
     "output_type": "stream",
     "text": [
      "[CV] END ............C=10, coef0=1, gamma=0.001, kernel=poly; total time=   0.0s\n",
      "[CV] END .............C=10, coef0=1, gamma=0.002, kernel=rbf; total time=   0.0s\n",
      "[CV] END .............C=10, coef0=1, gamma=0.002, kernel=rbf; total time=   0.0s\n",
      "[CV] END .............C=10, coef0=1, gamma=0.002, kernel=rbf; total time=   0.0s\n",
      "[CV] END ............C=10, coef0=1, gamma=0.002, kernel=poly; total time=   0.0s\n",
      "[CV] END ............C=10, coef0=1, gamma=0.002, kernel=poly; total time=   0.0s\n",
      "[CV] END ............C=10, coef0=1, gamma=0.002, kernel=poly; total time=   0.0s\n",
      "[CV] END .............C=10, coef0=1, gamma=0.005, kernel=rbf; total time=   0.0s\n",
      "[CV] END .............C=10, coef0=1, gamma=0.005, kernel=rbf; total time=   0.0s\n",
      "[CV] END .............C=10, coef0=1, gamma=0.005, kernel=rbf; total time=   0.0s\n",
      "[CV] END ............C=10, coef0=1, gamma=0.005, kernel=poly; total time=   0.0s\n",
      "[CV] END ............C=10, coef0=1, gamma=0.005, kernel=poly; total time=   0.0s\n",
      "[CV] END ............C=10, coef0=1, gamma=0.005, kernel=poly; total time=   0.0s\n",
      "[CV] END ...............C=20, coef0=0, gamma=0.1, kernel=rbf; total time=   0.0s\n",
      "[CV] END ...............C=20, coef0=0, gamma=0.1, kernel=rbf; total time=   0.0s\n",
      "[CV] END ...............C=20, coef0=0, gamma=0.1, kernel=rbf; total time=   0.0s\n",
      "[CV] END ..............C=20, coef0=0, gamma=0.1, kernel=poly; total time=   0.0s\n",
      "[CV] END ..............C=20, coef0=0, gamma=0.1, kernel=poly; total time=   0.0s\n",
      "[CV] END ..............C=20, coef0=0, gamma=0.1, kernel=poly; total time=   0.0s\n",
      "[CV] END ..............C=20, coef0=0, gamma=0.05, kernel=rbf; total time=   0.0s\n",
      "[CV] END ..............C=20, coef0=0, gamma=0.05, kernel=rbf; total time=   0.0s\n",
      "[CV] END ..............C=20, coef0=0, gamma=0.05, kernel=rbf; total time=   0.0s\n",
      "[CV] END .............C=20, coef0=0, gamma=0.05, kernel=poly; total time=   0.0s\n",
      "[CV] END .............C=20, coef0=0, gamma=0.05, kernel=poly; total time=   0.0s\n",
      "[CV] END .............C=20, coef0=0, gamma=0.05, kernel=poly; total time=   0.0s\n",
      "[CV] END ..............C=20, coef0=0, gamma=0.01, kernel=rbf; total time=   0.0s\n",
      "[CV] END ..............C=20, coef0=0, gamma=0.01, kernel=rbf; total time=   0.0s\n",
      "[CV] END ..............C=20, coef0=0, gamma=0.01, kernel=rbf; total time=   0.0s\n",
      "[CV] END .............C=20, coef0=0, gamma=0.01, kernel=poly; total time=   0.0s\n",
      "[CV] END .............C=20, coef0=0, gamma=0.01, kernel=poly; total time=   0.0s\n",
      "[CV] END .............C=20, coef0=0, gamma=0.01, kernel=poly; total time=   0.0s\n",
      "[CV] END .............C=20, coef0=0, gamma=0.001, kernel=rbf; total time=   0.0s\n",
      "[CV] END .............C=20, coef0=0, gamma=0.001, kernel=rbf; total time=   0.0s\n",
      "[CV] END .............C=20, coef0=0, gamma=0.001, kernel=rbf; total time=   0.0s\n",
      "[CV] END ............C=20, coef0=0, gamma=0.001, kernel=poly; total time=   0.0s\n",
      "[CV] END ............C=20, coef0=0, gamma=0.001, kernel=poly; total time=   0.0s\n",
      "[CV] END ............C=20, coef0=0, gamma=0.001, kernel=poly; total time=   0.0s\n",
      "[CV] END .............C=20, coef0=0, gamma=0.002, kernel=rbf; total time=   0.0s\n",
      "[CV] END .............C=20, coef0=0, gamma=0.002, kernel=rbf; total time=   0.0s\n",
      "[CV] END .............C=20, coef0=0, gamma=0.002, kernel=rbf; total time=   0.0s\n",
      "[CV] END ............C=20, coef0=0, gamma=0.002, kernel=poly; total time=   0.0s\n",
      "[CV] END ............C=20, coef0=0, gamma=0.002, kernel=poly; total time=   0.0s\n",
      "[CV] END ............C=20, coef0=0, gamma=0.002, kernel=poly; total time=   0.0s\n",
      "[CV] END .............C=20, coef0=0, gamma=0.005, kernel=rbf; total time=   0.0s\n",
      "[CV] END .............C=20, coef0=0, gamma=0.005, kernel=rbf; total time=   0.0s\n",
      "[CV] END .............C=20, coef0=0, gamma=0.005, kernel=rbf; total time=   0.0s\n",
      "[CV] END ............C=20, coef0=0, gamma=0.005, kernel=poly; total time=   0.0s\n",
      "[CV] END ............C=20, coef0=0, gamma=0.005, kernel=poly; total time=   0.0s\n",
      "[CV] END ............C=20, coef0=0, gamma=0.005, kernel=poly; total time=   0.0s\n",
      "[CV] END ...............C=20, coef0=1, gamma=0.1, kernel=rbf; total time=   0.0s\n",
      "[CV] END ...............C=20, coef0=1, gamma=0.1, kernel=rbf; total time=   0.0s\n",
      "[CV] END ...............C=20, coef0=1, gamma=0.1, kernel=rbf; total time=   0.0s\n",
      "[CV] END ..............C=20, coef0=1, gamma=0.1, kernel=poly; total time=   0.0s\n",
      "[CV] END ..............C=20, coef0=1, gamma=0.1, kernel=poly; total time=   0.0s\n",
      "[CV] END ..............C=20, coef0=1, gamma=0.1, kernel=poly; total time=   0.0s\n",
      "[CV] END ..............C=20, coef0=1, gamma=0.05, kernel=rbf; total time=   0.0s\n",
      "[CV] END ..............C=20, coef0=1, gamma=0.05, kernel=rbf; total time=   0.0s\n",
      "[CV] END ..............C=20, coef0=1, gamma=0.05, kernel=rbf; total time=   0.0s\n",
      "[CV] END .............C=20, coef0=1, gamma=0.05, kernel=poly; total time=   0.0s\n",
      "[CV] END .............C=20, coef0=1, gamma=0.05, kernel=poly; total time=   0.0s\n",
      "[CV] END .............C=20, coef0=1, gamma=0.05, kernel=poly; total time=   0.0s\n",
      "[CV] END ..............C=20, coef0=1, gamma=0.01, kernel=rbf; total time=   0.0s\n",
      "[CV] END ..............C=20, coef0=1, gamma=0.01, kernel=rbf; total time=   0.0s\n",
      "[CV] END ..............C=20, coef0=1, gamma=0.01, kernel=rbf; total time=   0.0s\n",
      "[CV] END .............C=20, coef0=1, gamma=0.01, kernel=poly; total time=   0.0s\n",
      "[CV] END .............C=20, coef0=1, gamma=0.01, kernel=poly; total time=   0.0s\n",
      "[CV] END .............C=20, coef0=1, gamma=0.01, kernel=poly; total time=   0.0s\n",
      "[CV] END .............C=20, coef0=1, gamma=0.001, kernel=rbf; total time=   0.0s\n",
      "[CV] END .............C=20, coef0=1, gamma=0.001, kernel=rbf; total time=   0.0s\n",
      "[CV] END .............C=20, coef0=1, gamma=0.001, kernel=rbf; total time=   0.0s\n",
      "[CV] END ............C=20, coef0=1, gamma=0.001, kernel=poly; total time=   0.0s\n",
      "[CV] END ............C=20, coef0=1, gamma=0.001, kernel=poly; total time=   0.0s\n",
      "[CV] END ............C=20, coef0=1, gamma=0.001, kernel=poly; total time=   0.0s\n",
      "[CV] END .............C=20, coef0=1, gamma=0.002, kernel=rbf; total time=   0.0s\n",
      "[CV] END .............C=20, coef0=1, gamma=0.002, kernel=rbf; total time=   0.0s\n",
      "[CV] END .............C=20, coef0=1, gamma=0.002, kernel=rbf; total time=   0.0s\n",
      "[CV] END ............C=20, coef0=1, gamma=0.002, kernel=poly; total time=   0.0s\n",
      "[CV] END ............C=20, coef0=1, gamma=0.002, kernel=poly; total time=   0.0s\n",
      "[CV] END ............C=20, coef0=1, gamma=0.002, kernel=poly; total time=   0.0s\n",
      "[CV] END .............C=20, coef0=1, gamma=0.005, kernel=rbf; total time=   0.0s\n",
      "[CV] END .............C=20, coef0=1, gamma=0.005, kernel=rbf; total time=   0.0s\n",
      "[CV] END .............C=20, coef0=1, gamma=0.005, kernel=rbf; total time=   0.0s\n",
      "[CV] END ............C=20, coef0=1, gamma=0.005, kernel=poly; total time=   0.0s\n",
      "[CV] END ............C=20, coef0=1, gamma=0.005, kernel=poly; total time=   0.0s\n",
      "[CV] END ............C=20, coef0=1, gamma=0.005, kernel=poly; total time=   0.0s\n",
      "[CV] END ...............C=30, coef0=0, gamma=0.1, kernel=rbf; total time=   0.0s\n",
      "[CV] END ...............C=30, coef0=0, gamma=0.1, kernel=rbf; total time=   0.0s\n",
      "[CV] END ...............C=30, coef0=0, gamma=0.1, kernel=rbf; total time=   0.0s\n",
      "[CV] END ..............C=30, coef0=0, gamma=0.1, kernel=poly; total time=   0.0s\n",
      "[CV] END ..............C=30, coef0=0, gamma=0.1, kernel=poly; total time=   0.0s\n",
      "[CV] END ..............C=30, coef0=0, gamma=0.1, kernel=poly; total time=   0.0s\n",
      "[CV] END ..............C=30, coef0=0, gamma=0.05, kernel=rbf; total time=   0.0s\n",
      "[CV] END ..............C=30, coef0=0, gamma=0.05, kernel=rbf; total time=   0.0s\n",
      "[CV] END ..............C=30, coef0=0, gamma=0.05, kernel=rbf; total time=   0.0s\n",
      "[CV] END .............C=30, coef0=0, gamma=0.05, kernel=poly; total time=   0.0s\n",
      "[CV] END .............C=30, coef0=0, gamma=0.05, kernel=poly; total time=   0.0s\n",
      "[CV] END .............C=30, coef0=0, gamma=0.05, kernel=poly; total time=   0.0s\n",
      "[CV] END ..............C=30, coef0=0, gamma=0.01, kernel=rbf; total time=   0.0s\n",
      "[CV] END ..............C=30, coef0=0, gamma=0.01, kernel=rbf; total time=   0.0s\n",
      "[CV] END ..............C=30, coef0=0, gamma=0.01, kernel=rbf; total time=   0.0s\n",
      "[CV] END .............C=30, coef0=0, gamma=0.01, kernel=poly; total time=   0.0s\n",
      "[CV] END .............C=30, coef0=0, gamma=0.01, kernel=poly; total time=   0.0s\n",
      "[CV] END .............C=30, coef0=0, gamma=0.01, kernel=poly; total time=   0.0s\n"
     ]
    },
    {
     "name": "stdout",
     "output_type": "stream",
     "text": [
      "[CV] END .............C=30, coef0=0, gamma=0.001, kernel=rbf; total time=   0.0s\n",
      "[CV] END .............C=30, coef0=0, gamma=0.001, kernel=rbf; total time=   0.0s\n",
      "[CV] END .............C=30, coef0=0, gamma=0.001, kernel=rbf; total time=   0.0s\n",
      "[CV] END ............C=30, coef0=0, gamma=0.001, kernel=poly; total time=   0.0s\n",
      "[CV] END ............C=30, coef0=0, gamma=0.001, kernel=poly; total time=   0.0s\n",
      "[CV] END ............C=30, coef0=0, gamma=0.001, kernel=poly; total time=   0.0s\n",
      "[CV] END .............C=30, coef0=0, gamma=0.002, kernel=rbf; total time=   0.0s\n",
      "[CV] END .............C=30, coef0=0, gamma=0.002, kernel=rbf; total time=   0.0s\n",
      "[CV] END .............C=30, coef0=0, gamma=0.002, kernel=rbf; total time=   0.0s\n",
      "[CV] END ............C=30, coef0=0, gamma=0.002, kernel=poly; total time=   0.0s\n",
      "[CV] END ............C=30, coef0=0, gamma=0.002, kernel=poly; total time=   0.0s\n",
      "[CV] END ............C=30, coef0=0, gamma=0.002, kernel=poly; total time=   0.0s\n",
      "[CV] END .............C=30, coef0=0, gamma=0.005, kernel=rbf; total time=   0.0s\n",
      "[CV] END .............C=30, coef0=0, gamma=0.005, kernel=rbf; total time=   0.0s\n",
      "[CV] END .............C=30, coef0=0, gamma=0.005, kernel=rbf; total time=   0.0s\n",
      "[CV] END ............C=30, coef0=0, gamma=0.005, kernel=poly; total time=   0.0s\n",
      "[CV] END ............C=30, coef0=0, gamma=0.005, kernel=poly; total time=   0.0s\n",
      "[CV] END ............C=30, coef0=0, gamma=0.005, kernel=poly; total time=   0.0s\n",
      "[CV] END ...............C=30, coef0=1, gamma=0.1, kernel=rbf; total time=   0.0s\n",
      "[CV] END ...............C=30, coef0=1, gamma=0.1, kernel=rbf; total time=   0.0s\n",
      "[CV] END ...............C=30, coef0=1, gamma=0.1, kernel=rbf; total time=   0.0s\n",
      "[CV] END ..............C=30, coef0=1, gamma=0.1, kernel=poly; total time=   0.0s\n",
      "[CV] END ..............C=30, coef0=1, gamma=0.1, kernel=poly; total time=   0.0s\n",
      "[CV] END ..............C=30, coef0=1, gamma=0.1, kernel=poly; total time=   0.0s\n",
      "[CV] END ..............C=30, coef0=1, gamma=0.05, kernel=rbf; total time=   0.0s\n",
      "[CV] END ..............C=30, coef0=1, gamma=0.05, kernel=rbf; total time=   0.0s\n",
      "[CV] END ..............C=30, coef0=1, gamma=0.05, kernel=rbf; total time=   0.0s\n",
      "[CV] END .............C=30, coef0=1, gamma=0.05, kernel=poly; total time=   0.0s\n",
      "[CV] END .............C=30, coef0=1, gamma=0.05, kernel=poly; total time=   0.0s\n",
      "[CV] END .............C=30, coef0=1, gamma=0.05, kernel=poly; total time=   0.0s\n",
      "[CV] END ..............C=30, coef0=1, gamma=0.01, kernel=rbf; total time=   0.0s\n",
      "[CV] END ..............C=30, coef0=1, gamma=0.01, kernel=rbf; total time=   0.0s\n",
      "[CV] END ..............C=30, coef0=1, gamma=0.01, kernel=rbf; total time=   0.0s\n",
      "[CV] END .............C=30, coef0=1, gamma=0.01, kernel=poly; total time=   0.0s\n",
      "[CV] END .............C=30, coef0=1, gamma=0.01, kernel=poly; total time=   0.0s\n",
      "[CV] END .............C=30, coef0=1, gamma=0.01, kernel=poly; total time=   0.0s\n",
      "[CV] END .............C=30, coef0=1, gamma=0.001, kernel=rbf; total time=   0.0s\n",
      "[CV] END .............C=30, coef0=1, gamma=0.001, kernel=rbf; total time=   0.0s\n",
      "[CV] END .............C=30, coef0=1, gamma=0.001, kernel=rbf; total time=   0.0s\n",
      "[CV] END ............C=30, coef0=1, gamma=0.001, kernel=poly; total time=   0.0s\n",
      "[CV] END ............C=30, coef0=1, gamma=0.001, kernel=poly; total time=   0.0s\n",
      "[CV] END ............C=30, coef0=1, gamma=0.001, kernel=poly; total time=   0.0s\n",
      "[CV] END .............C=30, coef0=1, gamma=0.002, kernel=rbf; total time=   0.0s\n",
      "[CV] END .............C=30, coef0=1, gamma=0.002, kernel=rbf; total time=   0.0s\n",
      "[CV] END .............C=30, coef0=1, gamma=0.002, kernel=rbf; total time=   0.0s\n",
      "[CV] END ............C=30, coef0=1, gamma=0.002, kernel=poly; total time=   0.0s\n",
      "[CV] END ............C=30, coef0=1, gamma=0.002, kernel=poly; total time=   0.0s\n",
      "[CV] END ............C=30, coef0=1, gamma=0.002, kernel=poly; total time=   0.0s\n",
      "[CV] END .............C=30, coef0=1, gamma=0.005, kernel=rbf; total time=   0.0s\n",
      "[CV] END .............C=30, coef0=1, gamma=0.005, kernel=rbf; total time=   0.0s\n",
      "[CV] END .............C=30, coef0=1, gamma=0.005, kernel=rbf; total time=   0.0s\n",
      "[CV] END ............C=30, coef0=1, gamma=0.005, kernel=poly; total time=   0.0s\n",
      "[CV] END ............C=30, coef0=1, gamma=0.005, kernel=poly; total time=   0.0s\n",
      "[CV] END ............C=30, coef0=1, gamma=0.005, kernel=poly; total time=   0.0s\n",
      "[CV] END ...............C=50, coef0=0, gamma=0.1, kernel=rbf; total time=   0.0s\n",
      "[CV] END ...............C=50, coef0=0, gamma=0.1, kernel=rbf; total time=   0.0s\n",
      "[CV] END ...............C=50, coef0=0, gamma=0.1, kernel=rbf; total time=   0.0s\n",
      "[CV] END ..............C=50, coef0=0, gamma=0.1, kernel=poly; total time=   0.0s\n",
      "[CV] END ..............C=50, coef0=0, gamma=0.1, kernel=poly; total time=   0.0s\n",
      "[CV] END ..............C=50, coef0=0, gamma=0.1, kernel=poly; total time=   0.0s\n",
      "[CV] END ..............C=50, coef0=0, gamma=0.05, kernel=rbf; total time=   0.0s\n",
      "[CV] END ..............C=50, coef0=0, gamma=0.05, kernel=rbf; total time=   0.0s\n",
      "[CV] END ..............C=50, coef0=0, gamma=0.05, kernel=rbf; total time=   0.0s\n",
      "[CV] END .............C=50, coef0=0, gamma=0.05, kernel=poly; total time=   0.0s\n",
      "[CV] END .............C=50, coef0=0, gamma=0.05, kernel=poly; total time=   0.0s\n",
      "[CV] END .............C=50, coef0=0, gamma=0.05, kernel=poly; total time=   0.0s\n",
      "[CV] END ..............C=50, coef0=0, gamma=0.01, kernel=rbf; total time=   0.0s\n",
      "[CV] END ..............C=50, coef0=0, gamma=0.01, kernel=rbf; total time=   0.0s\n",
      "[CV] END ..............C=50, coef0=0, gamma=0.01, kernel=rbf; total time=   0.0s\n",
      "[CV] END .............C=50, coef0=0, gamma=0.01, kernel=poly; total time=   0.0s\n",
      "[CV] END .............C=50, coef0=0, gamma=0.01, kernel=poly; total time=   0.0s\n",
      "[CV] END .............C=50, coef0=0, gamma=0.01, kernel=poly; total time=   0.0s\n",
      "[CV] END .............C=50, coef0=0, gamma=0.001, kernel=rbf; total time=   0.0s\n",
      "[CV] END .............C=50, coef0=0, gamma=0.001, kernel=rbf; total time=   0.0s\n",
      "[CV] END .............C=50, coef0=0, gamma=0.001, kernel=rbf; total time=   0.0s\n",
      "[CV] END ............C=50, coef0=0, gamma=0.001, kernel=poly; total time=   0.0s\n",
      "[CV] END ............C=50, coef0=0, gamma=0.001, kernel=poly; total time=   0.0s\n",
      "[CV] END ............C=50, coef0=0, gamma=0.001, kernel=poly; total time=   0.0s\n",
      "[CV] END .............C=50, coef0=0, gamma=0.002, kernel=rbf; total time=   0.0s\n",
      "[CV] END .............C=50, coef0=0, gamma=0.002, kernel=rbf; total time=   0.0s\n",
      "[CV] END .............C=50, coef0=0, gamma=0.002, kernel=rbf; total time=   0.0s\n",
      "[CV] END ............C=50, coef0=0, gamma=0.002, kernel=poly; total time=   0.0s\n",
      "[CV] END ............C=50, coef0=0, gamma=0.002, kernel=poly; total time=   0.0s\n",
      "[CV] END ............C=50, coef0=0, gamma=0.002, kernel=poly; total time=   0.0s\n",
      "[CV] END .............C=50, coef0=0, gamma=0.005, kernel=rbf; total time=   0.0s\n",
      "[CV] END .............C=50, coef0=0, gamma=0.005, kernel=rbf; total time=   0.0s\n",
      "[CV] END .............C=50, coef0=0, gamma=0.005, kernel=rbf; total time=   0.0s\n",
      "[CV] END ............C=50, coef0=0, gamma=0.005, kernel=poly; total time=   0.0s\n",
      "[CV] END ............C=50, coef0=0, gamma=0.005, kernel=poly; total time=   0.0s\n",
      "[CV] END ............C=50, coef0=0, gamma=0.005, kernel=poly; total time=   0.0s\n",
      "[CV] END ...............C=50, coef0=1, gamma=0.1, kernel=rbf; total time=   0.0s\n",
      "[CV] END ...............C=50, coef0=1, gamma=0.1, kernel=rbf; total time=   0.0s\n",
      "[CV] END ...............C=50, coef0=1, gamma=0.1, kernel=rbf; total time=   0.0s\n",
      "[CV] END ..............C=50, coef0=1, gamma=0.1, kernel=poly; total time=   0.0s\n",
      "[CV] END ..............C=50, coef0=1, gamma=0.1, kernel=poly; total time=   0.0s\n",
      "[CV] END ..............C=50, coef0=1, gamma=0.1, kernel=poly; total time=   0.0s\n",
      "[CV] END ..............C=50, coef0=1, gamma=0.05, kernel=rbf; total time=   0.0s\n",
      "[CV] END ..............C=50, coef0=1, gamma=0.05, kernel=rbf; total time=   0.0s\n",
      "[CV] END ..............C=50, coef0=1, gamma=0.05, kernel=rbf; total time=   0.0s\n",
      "[CV] END .............C=50, coef0=1, gamma=0.05, kernel=poly; total time=   0.0s\n",
      "[CV] END .............C=50, coef0=1, gamma=0.05, kernel=poly; total time=   0.0s\n",
      "[CV] END .............C=50, coef0=1, gamma=0.05, kernel=poly; total time=   0.0s\n",
      "[CV] END ..............C=50, coef0=1, gamma=0.01, kernel=rbf; total time=   0.0s\n"
     ]
    },
    {
     "name": "stdout",
     "output_type": "stream",
     "text": [
      "[CV] END ..............C=50, coef0=1, gamma=0.01, kernel=rbf; total time=   0.0s\n",
      "[CV] END ..............C=50, coef0=1, gamma=0.01, kernel=rbf; total time=   0.0s\n",
      "[CV] END .............C=50, coef0=1, gamma=0.01, kernel=poly; total time=   0.0s\n",
      "[CV] END .............C=50, coef0=1, gamma=0.01, kernel=poly; total time=   0.0s\n",
      "[CV] END .............C=50, coef0=1, gamma=0.01, kernel=poly; total time=   0.0s\n",
      "[CV] END .............C=50, coef0=1, gamma=0.001, kernel=rbf; total time=   0.0s\n",
      "[CV] END .............C=50, coef0=1, gamma=0.001, kernel=rbf; total time=   0.0s\n",
      "[CV] END .............C=50, coef0=1, gamma=0.001, kernel=rbf; total time=   0.0s\n",
      "[CV] END ............C=50, coef0=1, gamma=0.001, kernel=poly; total time=   0.0s\n",
      "[CV] END ............C=50, coef0=1, gamma=0.001, kernel=poly; total time=   0.0s\n",
      "[CV] END ............C=50, coef0=1, gamma=0.001, kernel=poly; total time=   0.0s\n",
      "[CV] END .............C=50, coef0=1, gamma=0.002, kernel=rbf; total time=   0.0s\n",
      "[CV] END .............C=50, coef0=1, gamma=0.002, kernel=rbf; total time=   0.0s\n",
      "[CV] END .............C=50, coef0=1, gamma=0.002, kernel=rbf; total time=   0.0s\n",
      "[CV] END ............C=50, coef0=1, gamma=0.002, kernel=poly; total time=   0.0s\n",
      "[CV] END ............C=50, coef0=1, gamma=0.002, kernel=poly; total time=   0.0s\n",
      "[CV] END ............C=50, coef0=1, gamma=0.002, kernel=poly; total time=   0.0s\n",
      "[CV] END .............C=50, coef0=1, gamma=0.005, kernel=rbf; total time=   0.0s\n",
      "[CV] END .............C=50, coef0=1, gamma=0.005, kernel=rbf; total time=   0.0s\n",
      "[CV] END .............C=50, coef0=1, gamma=0.005, kernel=rbf; total time=   0.0s\n",
      "[CV] END ............C=50, coef0=1, gamma=0.005, kernel=poly; total time=   0.0s\n",
      "[CV] END ............C=50, coef0=1, gamma=0.005, kernel=poly; total time=   0.0s\n",
      "[CV] END ............C=50, coef0=1, gamma=0.005, kernel=poly; total time=   0.0s\n"
     ]
    },
    {
     "data": {
      "text/html": [
       "<style>#sk-container-id-2 {color: black;background-color: white;}#sk-container-id-2 pre{padding: 0;}#sk-container-id-2 div.sk-toggleable {background-color: white;}#sk-container-id-2 label.sk-toggleable__label {cursor: pointer;display: block;width: 100%;margin-bottom: 0;padding: 0.3em;box-sizing: border-box;text-align: center;}#sk-container-id-2 label.sk-toggleable__label-arrow:before {content: \"▸\";float: left;margin-right: 0.25em;color: #696969;}#sk-container-id-2 label.sk-toggleable__label-arrow:hover:before {color: black;}#sk-container-id-2 div.sk-estimator:hover label.sk-toggleable__label-arrow:before {color: black;}#sk-container-id-2 div.sk-toggleable__content {max-height: 0;max-width: 0;overflow: hidden;text-align: left;background-color: #f0f8ff;}#sk-container-id-2 div.sk-toggleable__content pre {margin: 0.2em;color: black;border-radius: 0.25em;background-color: #f0f8ff;}#sk-container-id-2 input.sk-toggleable__control:checked~div.sk-toggleable__content {max-height: 200px;max-width: 100%;overflow: auto;}#sk-container-id-2 input.sk-toggleable__control:checked~label.sk-toggleable__label-arrow:before {content: \"▾\";}#sk-container-id-2 div.sk-estimator input.sk-toggleable__control:checked~label.sk-toggleable__label {background-color: #d4ebff;}#sk-container-id-2 div.sk-label input.sk-toggleable__control:checked~label.sk-toggleable__label {background-color: #d4ebff;}#sk-container-id-2 input.sk-hidden--visually {border: 0;clip: rect(1px 1px 1px 1px);clip: rect(1px, 1px, 1px, 1px);height: 1px;margin: -1px;overflow: hidden;padding: 0;position: absolute;width: 1px;}#sk-container-id-2 div.sk-estimator {font-family: monospace;background-color: #f0f8ff;border: 1px dotted black;border-radius: 0.25em;box-sizing: border-box;margin-bottom: 0.5em;}#sk-container-id-2 div.sk-estimator:hover {background-color: #d4ebff;}#sk-container-id-2 div.sk-parallel-item::after {content: \"\";width: 100%;border-bottom: 1px solid gray;flex-grow: 1;}#sk-container-id-2 div.sk-label:hover label.sk-toggleable__label {background-color: #d4ebff;}#sk-container-id-2 div.sk-serial::before {content: \"\";position: absolute;border-left: 1px solid gray;box-sizing: border-box;top: 0;bottom: 0;left: 50%;z-index: 0;}#sk-container-id-2 div.sk-serial {display: flex;flex-direction: column;align-items: center;background-color: white;padding-right: 0.2em;padding-left: 0.2em;position: relative;}#sk-container-id-2 div.sk-item {position: relative;z-index: 1;}#sk-container-id-2 div.sk-parallel {display: flex;align-items: stretch;justify-content: center;background-color: white;position: relative;}#sk-container-id-2 div.sk-item::before, #sk-container-id-2 div.sk-parallel-item::before {content: \"\";position: absolute;border-left: 1px solid gray;box-sizing: border-box;top: 0;bottom: 0;left: 50%;z-index: -1;}#sk-container-id-2 div.sk-parallel-item {display: flex;flex-direction: column;z-index: 1;position: relative;background-color: white;}#sk-container-id-2 div.sk-parallel-item:first-child::after {align-self: flex-end;width: 50%;}#sk-container-id-2 div.sk-parallel-item:last-child::after {align-self: flex-start;width: 50%;}#sk-container-id-2 div.sk-parallel-item:only-child::after {width: 0;}#sk-container-id-2 div.sk-dashed-wrapped {border: 1px dashed gray;margin: 0 0.4em 0.5em 0.4em;box-sizing: border-box;padding-bottom: 0.4em;background-color: white;}#sk-container-id-2 div.sk-label label {font-family: monospace;font-weight: bold;display: inline-block;line-height: 1.2em;}#sk-container-id-2 div.sk-label-container {text-align: center;}#sk-container-id-2 div.sk-container {/* jupyter's `normalize.less` sets `[hidden] { display: none; }` but bootstrap.min.css set `[hidden] { display: none !important; }` so we also need the `!important` here to be able to override the default hidden behavior on the sphinx rendered scikit-learn.org. See: https://github.com/scikit-learn/scikit-learn/issues/21755 */display: inline-block !important;position: relative;}#sk-container-id-2 div.sk-text-repr-fallback {display: none;}</style><div id=\"sk-container-id-2\" class=\"sk-top-container\"><div class=\"sk-text-repr-fallback\"><pre>GridSearchCV(cv=3, estimator=SVC(probability=True),\n",
       "             param_grid={&#x27;C&#x27;: [0.5, 1, 10, 20, 30, 50], &#x27;coef0&#x27;: [0, 1],\n",
       "                         &#x27;gamma&#x27;: [0.1, 0.05, 0.01, 0.001, 0.002, 0.005],\n",
       "                         &#x27;kernel&#x27;: [&#x27;rbf&#x27;, &#x27;poly&#x27;]},\n",
       "             scoring=&#x27;accuracy&#x27;, verbose=2)</pre><b>In a Jupyter environment, please rerun this cell to show the HTML representation or trust the notebook. <br />On GitHub, the HTML representation is unable to render, please try loading this page with nbviewer.org.</b></div><div class=\"sk-container\" hidden><div class=\"sk-item sk-dashed-wrapped\"><div class=\"sk-label-container\"><div class=\"sk-label sk-toggleable\"><input class=\"sk-toggleable__control sk-hidden--visually\" id=\"sk-estimator-id-4\" type=\"checkbox\" ><label for=\"sk-estimator-id-4\" class=\"sk-toggleable__label sk-toggleable__label-arrow\">GridSearchCV</label><div class=\"sk-toggleable__content\"><pre>GridSearchCV(cv=3, estimator=SVC(probability=True),\n",
       "             param_grid={&#x27;C&#x27;: [0.5, 1, 10, 20, 30, 50], &#x27;coef0&#x27;: [0, 1],\n",
       "                         &#x27;gamma&#x27;: [0.1, 0.05, 0.01, 0.001, 0.002, 0.005],\n",
       "                         &#x27;kernel&#x27;: [&#x27;rbf&#x27;, &#x27;poly&#x27;]},\n",
       "             scoring=&#x27;accuracy&#x27;, verbose=2)</pre></div></div></div><div class=\"sk-parallel\"><div class=\"sk-parallel-item\"><div class=\"sk-item\"><div class=\"sk-label-container\"><div class=\"sk-label sk-toggleable\"><input class=\"sk-toggleable__control sk-hidden--visually\" id=\"sk-estimator-id-5\" type=\"checkbox\" ><label for=\"sk-estimator-id-5\" class=\"sk-toggleable__label sk-toggleable__label-arrow\">estimator: SVC</label><div class=\"sk-toggleable__content\"><pre>SVC(probability=True)</pre></div></div></div><div class=\"sk-serial\"><div class=\"sk-item\"><div class=\"sk-estimator sk-toggleable\"><input class=\"sk-toggleable__control sk-hidden--visually\" id=\"sk-estimator-id-6\" type=\"checkbox\" ><label for=\"sk-estimator-id-6\" class=\"sk-toggleable__label sk-toggleable__label-arrow\">SVC</label><div class=\"sk-toggleable__content\"><pre>SVC(probability=True)</pre></div></div></div></div></div></div></div></div></div></div>"
      ],
      "text/plain": [
       "GridSearchCV(cv=3, estimator=SVC(probability=True),\n",
       "             param_grid={'C': [0.5, 1, 10, 20, 30, 50], 'coef0': [0, 1],\n",
       "                         'gamma': [0.1, 0.05, 0.01, 0.001, 0.002, 0.005],\n",
       "                         'kernel': ['rbf', 'poly']},\n",
       "             scoring='accuracy', verbose=2)"
      ]
     },
     "execution_count": 38,
     "metadata": {},
     "output_type": "execute_result"
    }
   ],
   "source": [
    "model_grid.fit(x_train,y_train)"
   ]
  },
  {
   "cell_type": "code",
   "execution_count": 39,
   "id": "a1c8c3ac",
   "metadata": {},
   "outputs": [
    {
     "data": {
      "text/plain": [
       "{'C': 1, 'coef0': 0, 'gamma': 0.01, 'kernel': 'rbf'}"
      ]
     },
     "execution_count": 39,
     "metadata": {},
     "output_type": "execute_result"
    }
   ],
   "source": [
    "model_grid.best_params_"
   ]
  },
  {
   "cell_type": "code",
   "execution_count": 40,
   "id": "50cc6c65",
   "metadata": {},
   "outputs": [],
   "source": [
    "model_final = model_grid.best_estimator_"
   ]
  },
  {
   "cell_type": "code",
   "execution_count": 41,
   "id": "ff79a814",
   "metadata": {},
   "outputs": [
    {
     "data": {
      "text/plain": [
       "{'C': 1,\n",
       " 'break_ties': False,\n",
       " 'cache_size': 200,\n",
       " 'class_weight': None,\n",
       " 'coef0': 0,\n",
       " 'decision_function_shape': 'ovr',\n",
       " 'degree': 3,\n",
       " 'gamma': 0.01,\n",
       " 'kernel': 'rbf',\n",
       " 'max_iter': -1,\n",
       " 'probability': True,\n",
       " 'random_state': None,\n",
       " 'shrinking': True,\n",
       " 'tol': 0.001,\n",
       " 'verbose': False}"
      ]
     },
     "execution_count": 41,
     "metadata": {},
     "output_type": "execute_result"
    }
   ],
   "source": [
    "model_final.get_params()"
   ]
  },
  {
   "cell_type": "markdown",
   "id": "ed19c6ad",
   "metadata": {},
   "source": [
    "### Model Evaluation\n",
    "- Classification Report\n",
    "    - Precision, Recall, F1-Score\n",
    "- Kappa Score\n",
    "    - -ve (worst model)\n",
    "    - 0 to 0.5 (bad model)\n",
    "    - 0.5 to 0.7 (Good Model)\n",
    "    - 0.7 to 0.9 (Excellent Model)\n",
    "    - 0.9 to 1.0 (Perfect Model)\n",
    "- AUC\n",
    "    - Less than 0.5 (Worst Model)\n",
    "    - 0.5 to 0.6 (Bad Model)\n",
    "    - 0.6 to 0.8 (Good Model)\n",
    "    - 0.8 to 0.9 (Excellent Model)\n",
    "    - 0.9 to 1.0 (Perfect Model)"
   ]
  },
  {
   "cell_type": "code",
   "execution_count": 42,
   "id": "014ce0eb",
   "metadata": {},
   "outputs": [],
   "source": [
    "y_pred = model_final.predict(x_test) # predicted values"
   ]
  },
  {
   "cell_type": "code",
   "execution_count": 43,
   "id": "2eaf36e3",
   "metadata": {},
   "outputs": [
    {
     "data": {
      "text/plain": [
       "array(['Van', 'Van', 'Van', 'Henry', 'Henry', 'Van', 'Henry', 'Van',\n",
       "       'Van', 'Henry', 'Henry', 'Van', 'Henry', 'Van', 'Henry', 'Henry',\n",
       "       'Van', 'Henry', 'Van', 'Van', 'Van', 'Henry', 'Henry', 'Henry',\n",
       "       'Van', 'Henry', 'Van', 'Van', 'Van', 'Van', 'Van', 'Henry',\n",
       "       'Henry', 'Henry', 'Van', 'Henry', 'Henry', 'Henry', 'Van', 'Henry',\n",
       "       'Henry', 'Van', 'Van', 'Van', 'Henry', 'Van', 'Van', 'Van',\n",
       "       'Henry', 'Van', 'Van', 'Van', 'Henry'], dtype=object)"
      ]
     },
     "execution_count": 43,
     "metadata": {},
     "output_type": "execute_result"
    }
   ],
   "source": [
    "y_pred"
   ]
  },
  {
   "cell_type": "markdown",
   "id": "70b94646",
   "metadata": {},
   "source": [
    "**Classification Report**"
   ]
  },
  {
   "cell_type": "code",
   "execution_count": 44,
   "id": "1e9157ab",
   "metadata": {},
   "outputs": [
    {
     "data": {
      "text/html": [
       "<div>\n",
       "<style scoped>\n",
       "    .dataframe tbody tr th:only-of-type {\n",
       "        vertical-align: middle;\n",
       "    }\n",
       "\n",
       "    .dataframe tbody tr th {\n",
       "        vertical-align: top;\n",
       "    }\n",
       "\n",
       "    .dataframe thead th {\n",
       "        text-align: right;\n",
       "    }\n",
       "</style>\n",
       "<table border=\"1\" class=\"dataframe\">\n",
       "  <thead>\n",
       "    <tr style=\"text-align: right;\">\n",
       "      <th></th>\n",
       "      <th>precision</th>\n",
       "      <th>recall</th>\n",
       "      <th>f1-score</th>\n",
       "      <th>support</th>\n",
       "    </tr>\n",
       "  </thead>\n",
       "  <tbody>\n",
       "    <tr>\n",
       "      <th>Henry</th>\n",
       "      <td>1.000000</td>\n",
       "      <td>0.960000</td>\n",
       "      <td>0.979592</td>\n",
       "      <td>25.000000</td>\n",
       "    </tr>\n",
       "    <tr>\n",
       "      <th>Van</th>\n",
       "      <td>0.965517</td>\n",
       "      <td>1.000000</td>\n",
       "      <td>0.982456</td>\n",
       "      <td>28.000000</td>\n",
       "    </tr>\n",
       "    <tr>\n",
       "      <th>accuracy</th>\n",
       "      <td>0.981132</td>\n",
       "      <td>0.981132</td>\n",
       "      <td>0.981132</td>\n",
       "      <td>0.981132</td>\n",
       "    </tr>\n",
       "    <tr>\n",
       "      <th>macro avg</th>\n",
       "      <td>0.982759</td>\n",
       "      <td>0.980000</td>\n",
       "      <td>0.981024</td>\n",
       "      <td>53.000000</td>\n",
       "    </tr>\n",
       "    <tr>\n",
       "      <th>weighted avg</th>\n",
       "      <td>0.981783</td>\n",
       "      <td>0.981132</td>\n",
       "      <td>0.981105</td>\n",
       "      <td>53.000000</td>\n",
       "    </tr>\n",
       "  </tbody>\n",
       "</table>\n",
       "</div>"
      ],
      "text/plain": [
       "              precision    recall  f1-score    support\n",
       "Henry          1.000000  0.960000  0.979592  25.000000\n",
       "Van            0.965517  1.000000  0.982456  28.000000\n",
       "accuracy       0.981132  0.981132  0.981132   0.981132\n",
       "macro avg      0.982759  0.980000  0.981024  53.000000\n",
       "weighted avg   0.981783  0.981132  0.981105  53.000000"
      ]
     },
     "execution_count": 44,
     "metadata": {},
     "output_type": "execute_result"
    }
   ],
   "source": [
    "cr = metrics.classification_report(y_test,y_pred,output_dict=True)\n",
    "pd.DataFrame(cr).T"
   ]
  },
  {
   "cell_type": "markdown",
   "id": "77e9b417",
   "metadata": {},
   "source": [
    "**Kappa Score**"
   ]
  },
  {
   "cell_type": "code",
   "execution_count": 45,
   "id": "69e524d7",
   "metadata": {},
   "outputs": [
    {
     "data": {
      "text/plain": [
       "0.9620615604867573"
      ]
     },
     "execution_count": 45,
     "metadata": {},
     "output_type": "execute_result"
    }
   ],
   "source": [
    "metrics.cohen_kappa_score(y_test,y_pred)"
   ]
  },
  {
   "cell_type": "markdown",
   "id": "aedd54d4",
   "metadata": {},
   "source": [
    "**Area Under Curve (AUC)**"
   ]
  },
  {
   "cell_type": "code",
   "execution_count": 46,
   "id": "1a287288",
   "metadata": {},
   "outputs": [
    {
     "data": {
      "text/plain": [
       "0.98"
      ]
     },
     "execution_count": 46,
     "metadata": {},
     "output_type": "execute_result"
    }
   ],
   "source": [
    "metrics.roc_auc_score(np.where(y_test==\"Henry\",1,0),\n",
    "                      np.where(y_pred==\"Henry\",1,0))"
   ]
  },
  {
   "cell_type": "markdown",
   "id": "5fd227a5",
   "metadata": {},
   "source": [
    "#### Save Face Recognition Model"
   ]
  },
  {
   "cell_type": "code",
   "execution_count": 47,
   "id": "eb27566f",
   "metadata": {},
   "outputs": [],
   "source": [
    "import pickle"
   ]
  },
  {
   "cell_type": "code",
   "execution_count": 48,
   "id": "fa9cfb56",
   "metadata": {},
   "outputs": [],
   "source": [
    "pickle.dump(model_final,open('./model/model_svm.pickle',mode='wb'))"
   ]
  },
  {
   "cell_type": "code",
   "execution_count": null,
   "id": "aaf31f35",
   "metadata": {},
   "outputs": [],
   "source": []
  },
  {
   "cell_type": "code",
   "execution_count": null,
   "id": "258c70e2",
   "metadata": {},
   "outputs": [],
   "source": []
  },
  {
   "cell_type": "code",
   "execution_count": null,
   "id": "b97a273a",
   "metadata": {},
   "outputs": [],
   "source": []
  },
  {
   "cell_type": "code",
   "execution_count": null,
   "id": "3759f558",
   "metadata": {},
   "outputs": [],
   "source": []
  },
  {
   "cell_type": "code",
   "execution_count": null,
   "id": "77c96196",
   "metadata": {},
   "outputs": [],
   "source": []
  },
  {
   "cell_type": "code",
   "execution_count": null,
   "id": "7284ebc0",
   "metadata": {},
   "outputs": [],
   "source": []
  },
  {
   "cell_type": "code",
   "execution_count": null,
   "id": "94f0b77c",
   "metadata": {},
   "outputs": [],
   "source": []
  },
  {
   "cell_type": "code",
   "execution_count": null,
   "id": "b1d5a664",
   "metadata": {},
   "outputs": [],
   "source": []
  },
  {
   "cell_type": "code",
   "execution_count": null,
   "id": "91306ce2",
   "metadata": {},
   "outputs": [],
   "source": []
  },
  {
   "cell_type": "code",
   "execution_count": null,
   "id": "2d111957",
   "metadata": {},
   "outputs": [],
   "source": []
  },
  {
   "cell_type": "code",
   "execution_count": null,
   "id": "2132f2e6",
   "metadata": {},
   "outputs": [],
   "source": []
  },
  {
   "cell_type": "code",
   "execution_count": null,
   "id": "981f6422",
   "metadata": {},
   "outputs": [],
   "source": []
  },
  {
   "cell_type": "code",
   "execution_count": 23,
   "id": "dea62b86",
   "metadata": {},
   "outputs": [],
   "source": [
    "import matplotlib.pyplot as plt\n",
    "import seaborn as sns"
   ]
  },
  {
   "cell_type": "code",
   "execution_count": 24,
   "id": "0a3b181e",
   "metadata": {},
   "outputs": [],
   "source": [
    "cv_results = pd.DataFrame(model_grid.cv_results_)"
   ]
  },
  {
   "cell_type": "code",
   "execution_count": 25,
   "id": "c5293ea8",
   "metadata": {},
   "outputs": [],
   "source": [
    "param = ['param_C','param_coef0','param_gamma','param_kernel']\n",
    "cv_results = cv_results[param+['mean_test_score']]\n",
    "cv_results[param] = cv_results[param].astype(str)"
   ]
  },
  {
   "cell_type": "code",
   "execution_count": 26,
   "id": "5df75558",
   "metadata": {},
   "outputs": [
    {
     "data": {
      "image/png": "[encoded data removed]",
      "text/plain": [
       "<Figure size 1000x1000 with 4 Axes>"
      ]
     },
     "metadata": {},
     "output_type": "display_data"
    }
   ],
   "source": [
    "plt.figure(figsize=(10,10))\n",
    "for i, par in enumerate(param):\n",
    "    plt.subplot(2,2,i+1)\n",
    "    sns.kdeplot(data=cv_results,x='mean_test_score',hue=par)"
   ]
  },
  {
   "cell_type": "code",
   "execution_count": 27,
   "id": "420525d0",
   "metadata": {},
   "outputs": [
    {
     "data": {
      "text/plain": [
       "{'C': 1, 'coef0': 1, 'gamma': 0.01, 'kernel': 'poly'}"
      ]
     },
     "execution_count": 27,
     "metadata": {},
     "output_type": "execute_result"
    }
   ],
   "source": [
    "model_grid.best_params_"
   ]
  },
  {
   "cell_type": "code",
   "execution_count": null,
   "id": "856f4b4f",
   "metadata": {},
   "outputs": [],
   "source": []
  },
  {
   "cell_type": "code",
   "execution_count": null,
   "id": "5c15608c",
   "metadata": {},
   "outputs": [],
   "source": []
  },
  {
   "cell_type": "code",
   "execution_count": null,
   "id": "e9f69bce",
   "metadata": {},
   "outputs": [],
   "source": []
  },
  {
   "cell_type": "code",
   "execution_count": null,
   "id": "12978fa4",
   "metadata": {},
   "outputs": [],
   "source": []
  }
 ],
 "metadata": {
  "kernelspec": {
   "display_name": "Python 3 (ipykernel)",
   "language": "python",
   "name": "python3"
  },
  "language_info": {
   "codemirror_mode": {
    "name": "ipython",
    "version": 3
   },
   "file_extension": ".py",
   "mimetype": "text/x-python",
   "name": "python",
   "nbconvert_exporter": "python",
   "pygments_lexer": "ipython3",
   "version": "3.10.9"
  }
 },
 "nbformat": 4,
 "nbformat_minor": 5
}
